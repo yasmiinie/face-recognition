{
 "cells": [
  {
   "cell_type": "code",
   "execution_count": null,
   "metadata": {},
   "outputs": [],
   "source": [
    "import cv2\n",
    "\n",
    "def crop_face(image_path, output_path, face_cascade_path=None):\n",
    "    \"\"\"\n",
    "    Detects and crops a face from an image.\n",
    "\n",
    "    Args:\n",
    "        image_path (str): Path to the input image file.\n",
    "        output_path (str): Path to save the cropped face image.\n",
    "        face_cascade_path (str, optional): Path to the Haar Cascade classifier XML file. \n",
    "                                           Defaults to the default frontal face classifier.\n",
    "    \"\"\"\n",
    "    if face_cascade_path is None:\n",
    "        face_cascade_path = cv2.data.haarcascades + 'haarcascade_frontalface_default.xml'\n",
    "\n",
    "    # Load the face detection model\n",
    "    face_cascade = cv2.CascadeClassifier(face_cascade_path)\n",
    "\n",
    "    # Load the image\n",
    "    img = cv2.imread(image_path)\n",
    "    gray = cv2.cvtColor(img, cv2.COLOR_BGR2GRAY)\n",
    "\n",
    "    # Detect faces\n",
    "    faces = face_cascade.detectMultiScale(gray, 1.3, 5)\n",
    "\n",
    "    # Crop and save the first detected face\n",
    "    if len(faces) > 0:\n",
    "        (x, y, w, h) = faces[0]\n",
    "        cropped_face = img[y:y + h, x:x + w]\n",
    "        cv2.imwrite(output_path, cropped_face)\n",
    "        print(f\"Face cropped and saved to: {output_path}\")\n",
    "    else:\n",
    "        print(f\"Warning: No face detected in {image_path}.\")\n",
    "        \n",
    "#crop_face(\"./TEST_DATA/depp.jpeg\", \"./Dataset/depp.jpg\", face_cascade_path=None)"
   ]
  }
 ],
 "metadata": {
  "kernelspec": {
   "display_name": "3.8.13",
   "language": "python",
   "name": "python3"
  },
  "language_info": {
   "name": "python",
   "version": "3.8.13"
  }
 },
 "nbformat": 4,
 "nbformat_minor": 2
}
